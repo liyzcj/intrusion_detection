{
 "cells": [
  {
   "cell_type": "markdown",
   "metadata": {},
   "source": [
    "# Intrusion Detection"
   ]
  },
  {
   "cell_type": "code",
   "execution_count": 1,
   "metadata": {},
   "outputs": [],
   "source": [
    "import tensorflow.keras as k\n",
    "import tensorflow as tf\n",
    "from tensorflow.keras.layers import Input, Dense, Activation, BatchNormalization\n",
    "import numpy as np\n",
    "from utils import load_data"
   ]
  },
  {
   "cell_type": "markdown",
   "metadata": {},
   "source": [
    "## Load DataSet"
   ]
  },
  {
   "cell_type": "code",
   "execution_count": 15,
   "metadata": {},
   "outputs": [],
   "source": [
    "(x_train, y_train), (x_test, y_test) = load_data(norm_mode=\"zero_mean\")"
   ]
  },
  {
   "cell_type": "code",
   "execution_count": 16,
   "metadata": {},
   "outputs": [
    {
     "data": {
      "text/plain": [
       "(51065, 11)"
      ]
     },
     "execution_count": 16,
     "metadata": {},
     "output_type": "execute_result"
    }
   ],
   "source": [
    "x_train.shape"
   ]
  },
  {
   "cell_type": "code",
   "execution_count": 17,
   "metadata": {},
   "outputs": [
    {
     "data": {
      "text/plain": [
       "(51065, 1)"
      ]
     },
     "execution_count": 17,
     "metadata": {},
     "output_type": "execute_result"
    }
   ],
   "source": [
    "y_train.shape"
   ]
  },
  {
   "cell_type": "markdown",
   "metadata": {},
   "source": [
    "## Model\n",
    "\n",
    "Construct a Neural Network with:\n",
    "\n",
    "- 9 Inpute units\n",
    "- 50 Hidden units\n",
    "- 1 output units"
   ]
  },
  {
   "cell_type": "markdown",
   "metadata": {},
   "source": [
    "### Hyper parameters"
   ]
  },
  {
   "cell_type": "code",
   "execution_count": 18,
   "metadata": {},
   "outputs": [],
   "source": [
    "input_shape = (11,)\n",
    "hidden_unit = 256\n",
    "batch_size = 128\n",
    "epochs = 10"
   ]
  },
  {
   "cell_type": "markdown",
   "metadata": {},
   "source": [
    "### Construct Model"
   ]
  },
  {
   "cell_type": "code",
   "execution_count": 19,
   "metadata": {},
   "outputs": [],
   "source": [
    "model = k.models.Sequential(layers = [\n",
    "    Dense(hidden_unit, activation=\"relu\", input_shape = input_shape),\n",
    "#     BatchNormalization(),\n",
    "#     Dense(hidden_unit, activation=\"relu\"),\n",
    "#     BatchNormalization(),\n",
    "#     Dense(hidden_unit, activation=\"relu\"),\n",
    "#     BatchNormalization(),\n",
    "    Dense(1, activation=\"sigmoid\")\n",
    "])"
   ]
  },
  {
   "cell_type": "code",
   "execution_count": 20,
   "metadata": {},
   "outputs": [
    {
     "name": "stdout",
     "output_type": "stream",
     "text": [
      "_________________________________________________________________\n",
      "Layer (type)                 Output Shape              Param #   \n",
      "=================================================================\n",
      "dense_10 (Dense)             (None, 256)               3072      \n",
      "_________________________________________________________________\n",
      "dense_11 (Dense)             (None, 1)                 257       \n",
      "=================================================================\n",
      "Total params: 3,329\n",
      "Trainable params: 3,329\n",
      "Non-trainable params: 0\n",
      "_________________________________________________________________\n"
     ]
    }
   ],
   "source": [
    "model.summary()"
   ]
  },
  {
   "cell_type": "markdown",
   "metadata": {},
   "source": [
    "### Compile"
   ]
  },
  {
   "cell_type": "code",
   "execution_count": 24,
   "metadata": {},
   "outputs": [],
   "source": [
    "model.compile(\"sgd\", loss=\"binary_crossentropy\", metrics=['accuracy'])"
   ]
  },
  {
   "cell_type": "code",
   "execution_count": 25,
   "metadata": {},
   "outputs": [
    {
     "name": "stdout",
     "output_type": "stream",
     "text": [
      "Train on 51065 samples, validate on 10000 samples\n",
      "Epoch 1/10\n",
      "51065/51065 [==============================] - 1s 20us/step - loss: 0.3197 - acc: 0.8190 - val_loss: 0.3162 - val_acc: 0.8219\n",
      "Epoch 2/10\n",
      "51065/51065 [==============================] - 1s 16us/step - loss: 0.3193 - acc: 0.8207 - val_loss: 0.3161 - val_acc: 0.8201\n",
      "Epoch 3/10\n",
      "51065/51065 [==============================] - 1s 15us/step - loss: 0.3191 - acc: 0.8212 - val_loss: 0.3159 - val_acc: 0.8245\n",
      "Epoch 4/10\n",
      "51065/51065 [==============================] - 1s 15us/step - loss: 0.3191 - acc: 0.8207 - val_loss: 0.3158 - val_acc: 0.8256\n",
      "Epoch 5/10\n",
      "51065/51065 [==============================] - 1s 15us/step - loss: 0.3189 - acc: 0.8207 - val_loss: 0.3160 - val_acc: 0.8305\n",
      "Epoch 6/10\n",
      "51065/51065 [==============================] - 1s 16us/step - loss: 0.3189 - acc: 0.8225 - val_loss: 0.3162 - val_acc: 0.8253\n",
      "Epoch 7/10\n",
      "51065/51065 [==============================] - 1s 16us/step - loss: 0.3188 - acc: 0.8207 - val_loss: 0.3157 - val_acc: 0.8342\n",
      "Epoch 8/10\n",
      "51065/51065 [==============================] - 1s 16us/step - loss: 0.3189 - acc: 0.8211 - val_loss: 0.3156 - val_acc: 0.8288\n",
      "Epoch 9/10\n",
      "51065/51065 [==============================] - 1s 16us/step - loss: 0.3187 - acc: 0.8225 - val_loss: 0.3158 - val_acc: 0.8263\n",
      "Epoch 10/10\n",
      "51065/51065 [==============================] - 1s 15us/step - loss: 0.3186 - acc: 0.8216 - val_loss: 0.3155 - val_acc: 0.8292\n"
     ]
    },
    {
     "data": {
      "text/plain": [
       "<tensorflow.python.keras.callbacks.History at 0x7fac545685f8>"
      ]
     },
     "execution_count": 25,
     "metadata": {},
     "output_type": "execute_result"
    }
   ],
   "source": [
    "model.fit(x_train,y_train, batch_size=batch_size, epochs=epochs, validation_data=(x_test,y_test))"
   ]
  },
  {
   "cell_type": "code",
   "execution_count": 26,
   "metadata": {},
   "outputs": [
    {
     "name": "stdout",
     "output_type": "stream",
     "text": [
      "10000/10000 [==============================] - 0s 31us/step\n"
     ]
    }
   ],
   "source": [
    "res = model.evaluate(x_test,y_test)"
   ]
  },
  {
   "cell_type": "code",
   "execution_count": 27,
   "metadata": {},
   "outputs": [
    {
     "data": {
      "text/plain": [
       "[0.3154969185829163, 0.8292]"
      ]
     },
     "execution_count": 27,
     "metadata": {},
     "output_type": "execute_result"
    }
   ],
   "source": [
    "res"
   ]
  },
  {
   "cell_type": "code",
   "execution_count": null,
   "metadata": {},
   "outputs": [],
   "source": []
  }
 ],
 "metadata": {
  "kernelspec": {
   "display_name": "Python 3",
   "language": "python",
   "name": "python3"
  },
  "language_info": {
   "codemirror_mode": {
    "name": "ipython",
    "version": 3
   },
   "file_extension": ".py",
   "mimetype": "text/x-python",
   "name": "python",
   "nbconvert_exporter": "python",
   "pygments_lexer": "ipython3",
   "version": "3.6.6"
  }
 },
 "nbformat": 4,
 "nbformat_minor": 2
}
