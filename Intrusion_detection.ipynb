{
 "cells": [
  {
   "cell_type": "markdown",
   "metadata": {},
   "source": [
    "# Intrusion Detection"
   ]
  },
  {
   "cell_type": "code",
   "execution_count": 11,
   "metadata": {},
   "outputs": [],
   "source": [
    "import tensorflow.keras as k\n",
    "import tensorflow as tf\n",
    "from tensorflow.keras.layers import Input, Dense, Activation, BatchNormalization\n",
    "import numpy as np\n",
    "from utils import load_data"
   ]
  },
  {
   "cell_type": "markdown",
   "metadata": {},
   "source": [
    "## Load DataSet"
   ]
  },
  {
   "cell_type": "code",
   "execution_count": 2,
   "metadata": {},
   "outputs": [],
   "source": [
    "(x_train, y_train), (x_test, y_test) = load_data(norm_mode=\"none\")"
   ]
  },
  {
   "cell_type": "code",
   "execution_count": 4,
   "metadata": {},
   "outputs": [
    {
     "data": {
      "text/plain": [
       "array([[ 1., 44.,  8., ...,  1.,  0.,  0.],\n",
       "       [ 1., 42.,  7., ...,  1.,  0.,  0.],\n",
       "       [ 2., 57.,  8., ...,  1.,  1.,  2.],\n",
       "       ...,\n",
       "       [ 1., 48.,  8., ...,  1.,  0.,  0.],\n",
       "       [ 1., 47.,  8., ...,  1.,  0.,  0.],\n",
       "       [ 2., 48.,  8., ...,  5.,  7., 52.]])"
      ]
     },
     "execution_count": 4,
     "metadata": {},
     "output_type": "execute_result"
    }
   ],
   "source": [
    "x_train"
   ]
  },
  {
   "cell_type": "code",
   "execution_count": 5,
   "metadata": {},
   "outputs": [
    {
     "data": {
      "text/plain": [
       "(51065, 1)"
      ]
     },
     "execution_count": 5,
     "metadata": {},
     "output_type": "execute_result"
    }
   ],
   "source": [
    "y_train.shape"
   ]
  },
  {
   "cell_type": "markdown",
   "metadata": {},
   "source": [
    "## Model\n",
    "\n",
    "Construct a Neural Network with:\n",
    "\n",
    "- 9 Inpute units\n",
    "- 50 Hidden units\n",
    "- 1 output units"
   ]
  },
  {
   "cell_type": "markdown",
   "metadata": {},
   "source": [
    "### Hyper parameters"
   ]
  },
  {
   "cell_type": "code",
   "execution_count": 6,
   "metadata": {},
   "outputs": [],
   "source": [
    "hidden_unit = 256\n",
    "batch_size = 128\n",
    "epochs = 10"
   ]
  },
  {
   "cell_type": "markdown",
   "metadata": {},
   "source": [
    "### Construct Model"
   ]
  },
  {
   "cell_type": "code",
   "execution_count": 13,
   "metadata": {},
   "outputs": [],
   "source": [
    "model = k.models.Sequential(layers = [\n",
    "    Dense(hidden_unit, activation=\"relu\", input_shape = (9,)),\n",
    "    BatchNormalization(),\n",
    "    Dense(hidden_unit, activation=\"relu\"),\n",
    "    BatchNormalization(),\n",
    "    Dense(hidden_unit, activation=\"relu\"),\n",
    "    BatchNormalization(),\n",
    "    Dense(1, activation=\"sigmoid\")\n",
    "])"
   ]
  },
  {
   "cell_type": "code",
   "execution_count": 14,
   "metadata": {},
   "outputs": [
    {
     "name": "stdout",
     "output_type": "stream",
     "text": [
      "_________________________________________________________________\n",
      "Layer (type)                 Output Shape              Param #   \n",
      "=================================================================\n",
      "dense_4 (Dense)              (None, 256)               2560      \n",
      "_________________________________________________________________\n",
      "batch_normalization (BatchNo (None, 256)               1024      \n",
      "_________________________________________________________________\n",
      "dense_5 (Dense)              (None, 256)               65792     \n",
      "_________________________________________________________________\n",
      "batch_normalization_1 (Batch (None, 256)               1024      \n",
      "_________________________________________________________________\n",
      "dense_6 (Dense)              (None, 256)               65792     \n",
      "_________________________________________________________________\n",
      "batch_normalization_2 (Batch (None, 256)               1024      \n",
      "_________________________________________________________________\n",
      "dense_7 (Dense)              (None, 1)                 257       \n",
      "=================================================================\n",
      "Total params: 137,473\n",
      "Trainable params: 135,937\n",
      "Non-trainable params: 1,536\n",
      "_________________________________________________________________\n"
     ]
    }
   ],
   "source": [
    "model.summary()"
   ]
  },
  {
   "cell_type": "markdown",
   "metadata": {},
   "source": [
    "### Compile"
   ]
  },
  {
   "cell_type": "code",
   "execution_count": 15,
   "metadata": {},
   "outputs": [],
   "source": [
    "model.compile(\"adam\", loss=\"binary_crossentropy\", metrics=['accuracy'])"
   ]
  },
  {
   "cell_type": "code",
   "execution_count": 16,
   "metadata": {},
   "outputs": [
    {
     "name": "stdout",
     "output_type": "stream",
     "text": [
      "Train on 51065 samples, validate on 10000 samples\n",
      "Epoch 1/10\n",
      "51065/51065 [==============================] - 3s 54us/step - loss: 0.4317 - acc: 0.7726 - val_loss: 0.4431 - val_acc: 0.7787\n",
      "Epoch 2/10\n",
      "51065/51065 [==============================] - 2s 39us/step - loss: 0.3833 - acc: 0.7963 - val_loss: 0.3732 - val_acc: 0.8139\n",
      "Epoch 3/10\n",
      "51065/51065 [==============================] - 2s 39us/step - loss: 0.3702 - acc: 0.8045 - val_loss: 0.4098 - val_acc: 0.8087\n",
      "Epoch 4/10\n",
      "51065/51065 [==============================] - 2s 39us/step - loss: 0.3609 - acc: 0.8085 - val_loss: 0.3512 - val_acc: 0.8222\n",
      "Epoch 5/10\n",
      "51065/51065 [==============================] - 2s 39us/step - loss: 0.3551 - acc: 0.8126 - val_loss: 0.5124 - val_acc: 0.8077\n",
      "Epoch 6/10\n",
      "51065/51065 [==============================] - 2s 39us/step - loss: 0.3487 - acc: 0.8151 - val_loss: 0.3837 - val_acc: 0.7676\n",
      "Epoch 7/10\n",
      "51065/51065 [==============================] - 2s 40us/step - loss: 0.3482 - acc: 0.8153 - val_loss: 0.3595 - val_acc: 0.8063\n",
      "Epoch 8/10\n",
      "51065/51065 [==============================] - 2s 39us/step - loss: 0.3416 - acc: 0.8176 - val_loss: 0.3761 - val_acc: 0.8240\n",
      "Epoch 9/10\n",
      "51065/51065 [==============================] - 2s 39us/step - loss: 0.3365 - acc: 0.8209 - val_loss: 0.5266 - val_acc: 0.6592\n",
      "Epoch 10/10\n",
      "51065/51065 [==============================] - 2s 40us/step - loss: 0.3332 - acc: 0.8236 - val_loss: 0.4416 - val_acc: 0.8297\n"
     ]
    },
    {
     "data": {
      "text/plain": [
       "<tensorflow.python.keras.callbacks.History at 0x7fd3dc2f7a90>"
      ]
     },
     "execution_count": 16,
     "metadata": {},
     "output_type": "execute_result"
    }
   ],
   "source": [
    "model.fit(x_train,y_train, batch_size=batch_size, epochs=epochs, validation_data=(x_test,y_test))"
   ]
  },
  {
   "cell_type": "code",
   "execution_count": null,
   "metadata": {},
   "outputs": [],
   "source": []
  }
 ],
 "metadata": {
  "kernelspec": {
   "display_name": "Python 3",
   "language": "python",
   "name": "python3"
  },
  "language_info": {
   "codemirror_mode": {
    "name": "ipython",
    "version": 3
   },
   "file_extension": ".py",
   "mimetype": "text/x-python",
   "name": "python",
   "nbconvert_exporter": "python",
   "pygments_lexer": "ipython3",
   "version": "3.6.6"
  }
 },
 "nbformat": 4,
 "nbformat_minor": 2
}
